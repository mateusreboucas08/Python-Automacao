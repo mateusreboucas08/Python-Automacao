#Criar Orçamento

import pyautogui
import time
import random

time.sleep(3)
pyautogui.hotkey('ctrl', 'r')
time.sleep(2)


pyautogui.click(1338, 430)
time.sleep(0.5)


pyautogui.click(1093, 427)
opcao_canal = random.choice(["loja", "web", "telemarketing"])
pyautogui.write(opcao_canal)
pyautogui.press("enter")
time.sleep(0.2)


pyautogui.click(890, 472)
pyautogui.write("%")
pyautogui.press("enter")
time.sleep(0.2)


pyautogui.click(709, 428)
setas_para_baixo = random.randint(1, 12)
for _ in range(setas_para_baixo):
    pyautogui.press("down")
pyautogui.press("up") 
pyautogui.press("enter")
pyautogui.press("enter")
pyautogui.press("tab", presses=2)

pyautogui.write("1")
pyautogui.press("enter")


pyautogui.press("tab", presses=3)
pyautogui.write(str(random.randint(2, 23)))
pyautogui.press("enter")


pyautogui.write("1")


pyautogui.press("tab", presses=4)
pyautogui.press("f6")


pyautogui.write("dinheiro")


pyautogui.click(1334, 498)
pyautogui.press("enter")
 
pyautogui.press("tab", presses=2)
pyautogui.press("enter")
pyautogui.press("enter")
