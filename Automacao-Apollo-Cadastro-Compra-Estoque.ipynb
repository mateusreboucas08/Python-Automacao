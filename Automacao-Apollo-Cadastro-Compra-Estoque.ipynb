import pyautogui
import time
import random

# Lista de CFOPs válidos para ENTRADA
cfops_entrada = [
    "1.102", "1.411", "1.913"
]

# Lista de séries possíveis
series = ["004", "001", "006"]

# Espera 3 segundos para o usuário posicionar a tela
time.sleep(3)

# Define uma quantidade aleatória de notas (máximo de 10)
quantidade_notas = random.randint(1, 10)

    
pyautogui.hotkey('ctrl', 'e')
for _ in range(quantidade_notas):
    # Clique inicial (abrir compra de estoque)
    pyautogui.click(779, 171)
    pyautogui.click(x=508, y=183)

    # Preenchendo os campos
    pyautogui.click(x=211, y=170)  # Campo da nota fiscal
    pyautogui.write(str(random.randint(10000, 99999)))  # NF aleatória
    pyautogui.press("tab")

    serie_escolhida = random.choice(series)
    pyautogui.write(serie_escolhida)  # Série da nota
    pyautogui.press("tab")

    cfop_escolhido = random.choice(cfops_entrada)
    pyautogui.write(cfop_escolhido)  # CFOP de entrada
    pyautogui.press("tab", presses=3)

    pyautogui.write(str(random.choice([1, 2])))  # Tipo de operação (1 ou 2)
    pyautogui.press("tab", presses=9)

    pyautogui.write(str(random.randint(1, 23)))  # Código do produto
    pyautogui.press("tab")

    pyautogui.write(str(random.randint(1, 100)))  # Quantidade aleatória
    pyautogui.press("tab", presses=2)

    pyautogui.write(cfop_escolhido)  # Repete o mesmo CFOP
    pyautogui.press("tab", presses=6)

    pyautogui.press("enter")
    pyautogui.press("enter")
    pyautogui.press("tab")
    pyautogui.press("enter")
    pyautogui.press("f5")

    pyautogui.write("004")
    pyautogui.press("enter")
    pyautogui.write("006")

    pyautogui.click(779, 234)
    pyautogui.press("tab")
    pyautogui.press("enter")
    pyautogui.press("enter")
    pyautogui.press("tab")
    pyautogui.press("enter")

    # Pequena pausa entre as notas (pode ajustar)
    time.sleep(1)
