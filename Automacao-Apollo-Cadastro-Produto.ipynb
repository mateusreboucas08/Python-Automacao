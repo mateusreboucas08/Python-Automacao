#Automação Cadastro de Produto
# -> Requisito: tela de cadastro de produto deve estar aberta

import pyautogui
import time
import random

# Lista de produtos simulados
produtos = [
    "Parafuso sextavado", 
    "Porca de aço", 
    "Arruela lisa", 
    "Barra de ferro", 
    "Chapa galvanizada", 
    "Tubulação PVC", 
    "Abraçadeira", 
    "Fita isolante", 
    "Luva de conexão"
]

# Função para gerar NCM baseado no nome do produto
def gerar_ncm(nome_produto):
    ncm_base = {
        "parafuso": "73181500",
        "porca": "73181600",
        "arruela": "73182200",
        "barra": "72142000",
        "chapa": "72104910",
        "tubulação": "39172300",
        "abraçadeira": "83024900",
        "fita": "39191010",
        "luva": "39174090"
    }
    for chave, ncm in ncm_base.items():
        if chave in nome_produto.lower():
            return ncm
    return str(random.randint(10000000, 99999999))

# Função para gerar referência aleatória com base no nome
def gerar_referencia(nome_produto):
    siglas = {
        "parafuso": "PAR",
        "porca": "POR",
        "arruela": "ARR",
        "barra": "BAR",
        "chapa": "CHA",
        "tubulação": "TUB",
        "abraçadeira": "ABR",
        "tinta": "TIN",
        "fita": "FIT",
        "luva": "LUV"
    }
    for chave in siglas:
        if chave in nome_produto.lower():
            return f"{siglas[chave]}-{random.randint(1000, 9999)}"
    return f"GEN-{random.randint(1000, 9999)}"

# Geração de valores aleatórios
def valor_aleatorio():
    return f"{random.uniform(10, 500):.2f}".replace('.', ',')

def porcentagem_aleatoria():
    return f"{random.uniform(5, 18):.2f}".replace('.', ',')

# Aguarda para posicionamento da tela
time.sleep(3)
pyautogui.press('f5')

for i in range(20):
    # Clique inicial
    pyautogui.click(1312, 166)

    # Clique adicional a partir do segundo cadastro
    if i >= 1:
        pyautogui.click(1104, 600)

    # Geração de dados
    nome_produto = random.choice(produtos)
    referencia_produto = gerar_referencia(nome_produto)
    ncm_produto = gerar_ncm(nome_produto)

    # Cadastro
    pyautogui.write(nome_produto)
    pyautogui.press("tab")
    pyautogui.write(referencia_produto)
    pyautogui.press("tab", presses=3)
    pyautogui.write("1")
    pyautogui.press("tab")
    pyautogui.write("1")
    pyautogui.press("tab")
    pyautogui.write("1")
    pyautogui.press("tab", presses=2)
    pyautogui.write("1")
    pyautogui.press("tab", presses=3)
    pyautogui.write("UN")
    pyautogui.press("f8")

    # Novo clique após f8, apenas a partir do segundo cadastro
    if i >= 1:
        pyautogui.click(621, 426)

    # Continuação do preenchimento
    pyautogui.click(725, 453)
    pyautogui.write("N")
    pyautogui.press("tab")
    pyautogui.write("090")
    pyautogui.press("tab")
    pyautogui.write("090")
    pyautogui.press("tab")
    pyautogui.write("18")
    pyautogui.press("tab", presses=2)
    pyautogui.write("18")
    pyautogui.press("tab", presses=5)
    pyautogui.write(ncm_produto)

    pyautogui.click(725, 427)
    pyautogui.click(815, 427)
    pyautogui.click(755, 458)
    pyautogui.click(925, 567)
    pyautogui.write("N")
    pyautogui.press("f4")

    pyautogui.click(666, 436)
    pyautogui.write("1")
    pyautogui.press("tab", presses=2)
    pyautogui.press("enter")
    pyautogui.press("f5")

    pyautogui.click(1018, 464)
    pyautogui.write(valor_aleatorio())

    pyautogui.click(872, 659)
    pyautogui.click(1032, 597)
    pyautogui.click(709, 528)
    pyautogui.write(porcentagem_aleatoria())
    pyautogui.press("tab", presses=2)
    pyautogui.write(porcentagem_aleatoria())
    pyautogui.press("tab", presses=2)
    pyautogui.write(porcentagem_aleatoria())

    pyautogui.click(1307, 234)
