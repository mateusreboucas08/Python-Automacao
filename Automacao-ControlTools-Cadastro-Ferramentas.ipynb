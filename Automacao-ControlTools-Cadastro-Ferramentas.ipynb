#Automação Cadastro de Ferramentas

import pyautogui
import time
import os
import webbrowser
import random

# Dados aleatórios de exemplo
nomes_ferramentas = ['Furadeira', 'Parafusadeira', 'Lixadeira', 'Multímetro', 'Osciloscópio']
marcas = ['Bosch', 'Makita', 'DeWalt', 'Fluke', 'Philips']
fabricantes = ['Ferramentas Brasil', 'Tecno Equip', 'Mega Tools', 'Indústrias Reunidas', 'Fabrinox']
tombamentos = ['TB101', 'TB202', 'TB303', 'TB404', 'TB505']
series = ['SR123', 'SR456', 'SR789', 'SR321', 'SR654']

# Função para gerar uma data aleatória
def gerar_data():
    dia = random.randint(1, 28)
    mes = random.randint(1, 12)
    ano = random.randint(2020, 2024)
    return f'{dia:02d}/{mes:02d}/{ano}'

pyautogui.alert("O código vai começar. Não use nada do seu computador enquanto o código estiver executando!")
pyautogui.PAUSE = 0.5

# Abrir Chrome e acessar o login
pyautogui.press('winleft')
pyautogui.write('chrome')
pyautogui.press('enter')
time.sleep(2)

webbrowser.open("https://lunartecnologia.com.br/control-tools-sistema/login.php")
time.sleep(5)

pyautogui.click(x=857, y=315)  # CNPJ
pyautogui.write('12.689.766/0001-20')
pyautogui.press('tab')
pyautogui.write('mateus_reboucas@lunartecnologia.com.br')
pyautogui.press('tab')
pyautogui.write('1234')
pyautogui.press('enter')
time.sleep(5)

# Repetição de cadastro com dados diferentes
for i in range(5):
    webbrowser.open("https://lunartecnologia.com.br/control-tools-sistema/cadastro-equipamentos.php")
    time.sleep(5)

    nome = random.choice(nomes_ferramentas) + f" {i+1}"
    marca = random.choice(marcas)
    tombamento = random.choice(tombamentos)
    serie = random.choice(series)
    quantidade = str(random.randint(1, 10))
    data = gerar_data()
    fabricante = random.choice(fabricantes)

    pyautogui.click(x=608, y=194)  # equipNome
    pyautogui.write(nome)

    pyautogui.press('tab')  # equipMarca
    pyautogui.write(marca)

    pyautogui.press('tab')  # equipSerie
    pyautogui.write(serie)

    pyautogui.press('tab')  # equipTombamento
    pyautogui.write(tombamento)

    pyautogui.press('tab')  # equipFabricante
    pyautogui.write(fabricante)

    pyautogui.press('tab')  # equipValor
    pyautogui.write('1500.00')

    pyautogui.press('tab')  # equipDataAquisicao
    pyautogui.write(data)
    pyautogui.press('tab')

    pyautogui.press('tab')  # equipQuantidade
    pyautogui.write(quantidade)

    # Upload de imagem
    pyautogui.click(x=1367, y=429)
    time.sleep(2)
    pyautogui.write(r'C:\Users\Qualidade\Desktop\TESTE ANEXOS\download.jpg')
    pyautogui.press('enter')

    pyautogui.press('tab')
    pyautogui.press('tab')
    pyautogui.press('enter')

    time.sleep(3)  # Aguarda um pouco antes do próximo cadastro

pyautogui.alert("Processo finalizado com 5 cadastros aleatórios.")
