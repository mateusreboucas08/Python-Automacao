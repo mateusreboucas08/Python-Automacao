#Automação Obra -> Manutenção

import pyautogui
import time
import webbrowser
import random

# Listas de valores para aleatoriedade
orcamentos = ['250', '300', '150', '200', '100']
oficinas = ['Oficina 1', 'Oficina 2', 'Oficina 3', 'Oficina Central', 'Galpão']
responsaveis = ['Hélio', 'João', 'Carla', 'Marina', 'Lucas']

pyautogui.alert("O código vai começar. Não use nada do seu computador enquanto o código estiver executando!")
pyautogui.PAUSE = 0.5

# Abrir navegador e fazer login
pyautogui.press('winleft')
pyautogui.write('chrome')
pyautogui.press('enter')
time.sleep(3)

webbrowser.open("https://lunartecnologia.com.br/control-tools-sistema/login.php")
time.sleep(6)

pyautogui.click(x=857, y=315)  # CNPJ
time.sleep(2)
pyautogui.write('12.689.766/0001-20')
pyautogui.press('tab')
pyautogui.write('mateus_reboucas@lunartecnologia.com.br')
pyautogui.press('tab')
pyautogui.write('1234')
pyautogui.press('enter')
time.sleep(6)  # Espera o sistema carregar após login

# Repetição dos cliques e preenchimento com dados aleatórios
for i in range(5):
    orc = random.choice(orcamentos)
    oficina = random.choice(oficinas)
    responsavel = random.choice(responsaveis)

    pyautogui.click(x=138, y=395)
    time.sleep(2)

    pyautogui.click(x=898, y=801)
    time.sleep(2)

    pyautogui.click(x=769, y=341)
    time.sleep(2)

    pyautogui.click(x=983, y=480)
    time.sleep(2)

    pyautogui.click(x=1129, y=290)
    time.sleep(2)

    pyautogui.click(x=589, y=536)
    time.sleep(2)

    pyautogui.write(orc)
    time.sleep(2)

    pyautogui.press('tab')
    time.sleep(2)

    pyautogui.write(oficina)
    time.sleep(2)

    pyautogui.press('tab') 
    time.sleep(2)

    pyautogui.write(responsavel)
    time.sleep(2)

    pyautogui.click(x=879, y=702)
    time.sleep(2)

    pyautogui.write('1')
    time.sleep(2)

    pyautogui.click(x=930, y=641)
    time.sleep(2)

    pyautogui.click(x=930, y=641)
    time.sleep(2)
    
    pyautogui.click(x=915, y=695)
    time.sleep(2)

    pyautogui.click(x=953, y=665)
    time.sleep(2)

    pyautogui.click(x=1008, y=675)
    time.sleep(5)  # Aguarda antes de começar o próximo ciclo

pyautogui.alert("Processo finalizado com sucesso.")
