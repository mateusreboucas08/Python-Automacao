import pyautogui
import time
import random
from faker import Faker
from validate_docbr import CNPJ

fake = Faker('pt_BR')

# Lista de cidades reais por UF (exemplo com alguns estados, adicione mais se quiser)
cidades_por_uf = {
    'SP': ['São Paulo', 'Campinas', 'Santos', 'São Bernardo do Campo', 'Ribeirão Preto'],
    'RJ': ['Rio de Janeiro', 'Niterói', 'Nova Iguaçu', 'Duque de Caxias'],
    'MG': ['Belo Horizonte', 'Uberlândia', 'Contagem', 'Juiz de Fora'],
    'RS': ['Porto Alegre', 'Caxias do Sul', 'Pelotas', 'Canoas'],
    'PR': ['Curitiba', 'Londrina', 'Maringá', 'Cascavel'],
    'SC': ['Florianópolis', 'Joinville', 'Blumenau', 'Itajaí'],
    'BA': ['Salvador', 'Feira de Santana', 'Vitória da Conquista'],
    'PE': ['Recife', 'Olinda', 'Caruaru'],
    'CE': ['Fortaleza', 'Juazeiro do Norte', 'Sobral'],
    'DF': ['Brasília'],
    # Adicione mais estados conforme necessário
}

# Gerador de CNPJ válido
def gerar_cnpj_valido():
    cnpj = CNPJ()
    return cnpj.generate()

# Gerador de telefone brasileiro
def gerar_telefone():
    ddd = random.choice(['11', '21', '31', '41', '51', '61'])
    return f'{ddd}9{random.randint(1000,9999)}{random.randint(1000,9999)}'

# Gerador de e-mail
def gerar_email(nome):
    nome_limpo = nome.lower().replace(" ", ".")
    dominios = ["gmail.com", "hotmail.com", "yahoo.com.br"]
    return f"{nome_limpo}{random.randint(100,999)}@{random.choice(dominios)}"

# Gera uma cidade de acordo com o estado (UF)
def gerar_cidade_por_uf(uf):
    return random.choice(cidades_por_uf.get(uf, ['São Paulo']))  # fallback para SP se UF não estiver na lista

# Quantidade de cadastros
quantidade = 3

pyautogui.alert("A automação vai começar. Não use o computador durante a execução!")
pyautogui.PAUSE = 0.5

for _ in range(quantidade):
    nome = fake.name()
    cnpj = gerar_cnpj_valido()
    data_nascimento = fake.date_of_birth(minimum_age=18, maximum_age=65).strftime("%d%m%Y")
    telefone = gerar_telefone()
    email = gerar_email(nome)
    cep = fake.postcode().replace("-", "")
    uf = fake.estado_sigla()
    cidade = gerar_cidade_por_uf(uf)
    endereco = fake.street_name()
    numero = str(random.randint(1, 9999))
    bairro = fake.bairro()

    # Clique inicial
    pyautogui.click(x=220, y=200)
    time.sleep(3)
    pyautogui.click(x=222, y=221)
    time.sleep(3)

    # Nome
    pyautogui.click(x=1225, y=416)
    pyautogui.write(nome)
    time.sleep(3)

    pyautogui.press('tab')
    pyautogui.write(cnpj)
    time.sleep(3)

    pyautogui.click(x=1111, y=477)
    pyautogui.click(x=1114, y=495)
    time.sleep(3)

    pyautogui.press('tab')
    pyautogui.write(data_nascimento)
    time.sleep(3)

    pyautogui.press('tab', presses=2, interval=0.5)
    pyautogui.write(telefone)
    time.sleep(3)

    pyautogui.press('tab', presses=2, interval=0.5)
    pyautogui.write(email)
    time.sleep(3)

    pyautogui.press('tab')
    pyautogui.write(cep)
    time.sleep(3)

    pyautogui.click(x=1073, y=567)
    time.sleep(3)

    pyautogui.click(x=1063, y=279)
    time.sleep(3)

    pyautogui.write(cidade)
    time.sleep(3)

    pyautogui.doubleClick(x=867, y=334)
    time.sleep(3)

    pyautogui.press('tab')
    pyautogui.write(uf)
    time.sleep(3)

    pyautogui.press('tab')
    pyautogui.write(endereco)
    time.sleep(3)

    pyautogui.press('tab')
    pyautogui.write(numero)
    time.sleep(3)

    pyautogui.press('tab')
    pyautogui.write(bairro)
    time.sleep(3)

    pyautogui.click(x=822, y=667)
    time.sleep(2)
    pyautogui.click(x=820, y=683)
    time.sleep(2)
    pyautogui.click(x=1223, y=469)
    time.sleep(4)

pyautogui.alert(f"{quantidade} cadastros foram concluídos com sucesso.")
