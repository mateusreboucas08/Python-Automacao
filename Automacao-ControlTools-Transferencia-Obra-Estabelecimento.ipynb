#Automação Transferência Obra -> Canteiro Central

import pyautogui
import time
import webbrowser

pyautogui.alert("O código vai começar. Não use nada do seu computador enquanto o código estiver executando!")
pyautogui.PAUSE = 0.5

# Abrir navegador e fazer login
pyautogui.press('winleft')
pyautogui.write('chrome')
pyautogui.press('enter')
time.sleep(3)

webbrowser.open("https://lunartecnologia.com.br/control-tools-sistema/login.php")
time.sleep(6)

pyautogui.click(x=857, y=315)  # CNPJ
time.sleep(2)
pyautogui.write('12.689.766/0001-20')
pyautogui.press('tab')
pyautogui.write('mateus_reboucas@lunartecnologia.com.br')
pyautogui.press('tab')
pyautogui.write('1234')
pyautogui.press('enter')
time.sleep(6)  # Espera o sistema carregar após login

# Repetição dos cliques e preenchimento
for i in range(5):
    pyautogui.click(x=155, y=398)
    time.sleep(2)

    pyautogui.click(x=919, y=793)
    time.sleep(2)

    pyautogui.click(x=764, y=331)
    time.sleep(2)

    pyautogui.click(x=910, y=465)
    time.sleep(2)

    pyautogui.click(x=773, y=310)
    time.sleep(2)

    pyautogui.click(x=820, y=616)
    time.sleep(2)

    pyautogui.write('1')
    time.sleep(2)

    pyautogui.click(x=930, y=641)
    time.sleep(2)

    pyautogui.click(x=930, y=641)
    time.sleep(2)

    pyautogui.click(x=915, y=695)
    time.sleep(2)

    pyautogui.click(x=953, y=665)
    time.sleep(2)

    pyautogui.click(x=1008, y=675)
    time.sleep(5)  # Aguarda antes de começar o próximo ciclo

pyautogui.alert("Processo finalizado com sucesso.")
