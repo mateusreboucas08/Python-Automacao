#Definição de coordenadas a partir da posição do mouse

import pyautogui

print("Mova o mouse sobre o campo e me diga as coordenadas.")
pyautogui.position()
