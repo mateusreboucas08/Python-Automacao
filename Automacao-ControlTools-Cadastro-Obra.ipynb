# Automação Cadastro de Obra
import pyautogui
import time
import webbrowser
import random

pyautogui.alert("O código vai começar. Não use nada do seu computador enquanto o código estiver executando!")
pyautogui.PAUSE = 0.5

# Abrir navegador e fazer login
pyautogui.press('winleft')
pyautogui.write('chrome')
pyautogui.press('enter')
time.sleep(3)

webbrowser.open("https://lunartecnologia.com.br/control-tools-sistema/login.php")
time.sleep(6)

# Login
pyautogui.click(x=857, y=315)  # CNPJ
time.sleep(2)
pyautogui.write('12.689.766/0001-20')
pyautogui.press('tab')
pyautogui.write('mateus_reboucas@lunartecnologia.com.br')
pyautogui.press('tab')
pyautogui.write('1234')
pyautogui.press('enter')
time.sleep(6)  # Espera o sistema carregar após login

# Listas de nomes para gerar aleatórios
nomes_engenheiros = ['Carlos Silva', 'Ana Beatriz', 'Lucas Souza', 'Fernanda Lima', 'João Pedro']
nomes_obras = ['Residencial Sol', 'Edifício Aurora', 'Condomínio das Palmeiras', 'Obra Centro Sul', 'Torre Norte']

pyautogui.click(x=19, y=144)  # Menu lateral
time.sleep(2)
pyautogui.click(x=887, y=312)  # Submenu ou botão
time.sleep(2)

for i in range(5):
    # Acessar tela de cadastro
    pyautogui.click(x=1880, y=146)  # Novo cadastro
    time.sleep(2)
    pyautogui.click(x=534, y=190)  # Campo "Nome da Obra"
    time.sleep(1)

    nome_obra = random.choice(nomes_obras)
    engenheiro = random.choice(nomes_engenheiros)

    pyautogui.write(nome_obra)
    pyautogui.press('tab')
    pyautogui.write(engenheiro)
    pyautogui.press('tab')
    pyautogui.press('tab')
    pyautogui.press('enter')
    pyautogui.write(r'C:\Users\Qualidade\Desktop\TESTE ANEXOS\obra2.jpg')
    pyautogui.press('enter')  # Salvar
    time.sleep(2)
    
    pyautogui.click(x=975, y=481)  # Fechar ou voltar
    time.sleep(3)
