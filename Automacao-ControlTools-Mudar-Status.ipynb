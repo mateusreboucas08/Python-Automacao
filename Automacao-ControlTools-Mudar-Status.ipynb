#Automação Marcar Ferramenta Como Desaparecida

import pyautogui
import time
import webbrowser

pyautogui.alert("O código vai começar. Não use nada do seu computador enquanto o código estiver executando!")
pyautogui.PAUSE = 0.5

# Abrir navegador e fazer login
pyautogui.press('winleft')
pyautogui.write('chrome')
pyautogui.press('enter')
time.sleep(3)

webbrowser.open("https://lunartecnologia.com.br/control-tools-sistema/login.php")
time.sleep(6)

pyautogui.click(x=857, y=315)  # CNPJ
time.sleep(2)
pyautogui.write('12.689.766/0001-20')
pyautogui.press('tab')
pyautogui.write('mateus_reboucas@lunartecnologia.com.br')
pyautogui.press('tab')
pyautogui.write('1234')
pyautogui.press('enter')
time.sleep(6)  # Espera o sistema carregar após login

# Repetição dos cliques e preenchimento
for i in range(5):
    pyautogui.click(x=138, y=383)
    time.sleep(2)

    pyautogui.click(x=995, y=930)
    time.sleep(2)

    pyautogui.click(x=730, y=284)
    time.sleep(2)

    pyautogui.click(x=969, y=632)
    time.sleep(2)

    pyautogui.write('1')
    time.sleep(2)

    pyautogui.click(x=916, y=676)
    time.sleep(2)

    pyautogui.click(x=916, y=676)
    time.sleep(2)

    pyautogui.click(x=914, y=675)
    time.sleep(5)

pyautogui.alert("Processo finalizado com sucesso.")
