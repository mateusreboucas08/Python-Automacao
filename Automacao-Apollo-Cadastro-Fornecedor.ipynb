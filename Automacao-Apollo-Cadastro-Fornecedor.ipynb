import pyautogui
import time
import random
import requests
from faker import Faker

fake = Faker('pt_BR')


def gerar_cpf_4devs():
    url = 'https://www.4devs.com.br/ferramentas_online.php'
    payload = {
        'acao': 'gerar_cpf',
        'pontuacao': 'n'
    }
    response = requests.post(url, data=payload)
    if response.status_code == 200:
        return response.text.strip()
    else:
        raise Exception("Erro ao gerar CPF via 4Devs")


def gerar_telefone():
    ddd = random.choice(['11', '21', '31', '41', '51', '61'])
    numero = f'{ddd}9{random.randint(1000,9999)}{random.randint(1000,9999)}'
    return numero


def gerar_cep_valido():
    for _ in range(10):  # Tenta até 10 vezes
        cep = str(random.randint(1000000, 9999999)).zfill(8)
        try:
            response = requests.get(f"https://viacep.com.br/ws/{cep}/json/", timeout=5)
            if response.status_code == 200:
                dados = response.json()
                if not dados.get('erro'):
                    return cep
        except requests.exceptions.RequestException as e:
            print(f"Erro ao consultar o CEP {cep}: {e}")
            time.sleep(1)
    raise Exception("Não foi possível gerar um CEP válido após várias tentativas.")


quantidade = 5

pyautogui.alert("A automação vai começar. Não use o computador durante a execução!")
pyautogui.PAUSE = 0.5
pyautogui.press('f2')
for i in range(quantidade):
    nome_completo = fake.name()
    data_nascimento = fake.date_of_birth(minimum_age=18, maximum_age=60).strftime("%d%m%Y")
    cpf = gerar_cpf_4devs()
    telefone = gerar_telefone()
    cep = gerar_cep_valido()
    numero_endereco = str(random.randint(1, 999))

    pyautogui.click(x=1275, y=168)
    time.sleep(3)

    pyautogui.write(nome_completo)
    time.sleep(3)

    pyautogui.click(x=865, y=196)
    time.sleep(2)

    pyautogui.write(cpf)
    time.sleep(3)

    pyautogui.press('tab')
    time.sleep(3)

    pyautogui.press('tab')
    time.sleep(3)

    pyautogui.write('1')
    time.sleep(3)

    pyautogui.press('tab', presses=2, interval=0.5)
    time.sleep(3)

    pyautogui.write(data_nascimento)
    time.sleep(3)

    pyautogui.press('tab')
    time.sleep(3)

    pyautogui.write(cep)
    time.sleep(4)

    pyautogui.press('enter')
    time.sleep(4)

    pyautogui.write(numero_endereco)
    time.sleep(3)

    pyautogui.press('tab', presses=3, interval=0.5)
    time.sleep(3)

    pyautogui.write(telefone)
    time.sleep(3)

    pyautogui.press('tab', presses=3, interval=0.5)
    time.sleep(3)

    pyautogui.write(email)
    time.sleep(3)
    
    pyautogui.click(x=1022, y=595)
    time.sleep(3)
    pyautogui.write('9')
    pyautogui.press('enter')
    time.sleep(3)
    pyautogui.write('GOOGLE')

    pyautogui.click(x=1270, y=232)
    time.sleep(4)

pyautogui.alert(f"{quantidade} cadastros foram concluídos com sucesso.")

